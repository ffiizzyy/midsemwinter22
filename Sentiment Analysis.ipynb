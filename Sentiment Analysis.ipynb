{
 "cells": [
  {
   "cell_type": "code",
   "execution_count": null,
   "id": "26332c7d",
   "metadata": {},
   "outputs": [],
   "source": [
    "import pandas as pd\n",
    "from textblob import TextBlob\n",
    "import nltk\n",
    "from wordcloud import WordCloud\n",
    "import matplotlib.pyplot as plt\n",
    "from collections import Counter\n",
    "\n",
    "# Load CSV\n",
    "df = pd.read_csv(\"reviews_dec18.csv\")\n",
    "\n",
    "df['comments'] = df['comments'].astype(str)\n",
    "\n",
    "# List how many unique places are reviewed\n",
    "num_unique_values = df['listing_id'].nunique()\n",
    "\n",
    "unique_values = df['listing_id'].unique()\n",
    "\n",
    "unique_values"
   ]
  },
  {
   "cell_type": "code",
   "execution_count": null,
   "id": "d0b785a7",
   "metadata": {},
   "outputs": [],
   "source": [
    "# Choose listing number and create subset\n",
    "\n",
    "listing_id_chosen = 12936\n",
    "subset = df.loc[df['listing_id'] == listing_id_chosen, :].copy()\n",
    "\n",
    "display(subset)"
   ]
  },
  {
   "cell_type": "code",
   "execution_count": null,
   "id": "c107fef4",
   "metadata": {},
   "outputs": [],
   "source": [
    "# Determine polarity\n",
    "\n",
    "#If polarity <0 = negative, =0 means neutral, >0 positive\n",
    "subset.loc[:, 'polarity'] = subset['comments'].apply(lambda \n",
    "                x: TextBlob(x).sentiment.polarity)\n",
    "\n",
    "# Determine subjectivity\n",
    "subset.loc[:, 'subjectivity'] = subset['comments'].apply(lambda \n",
    "                x: TextBlob(x).sentiment.subjectivity)"
   ]
  },
  {
   "cell_type": "code",
   "execution_count": null,
   "id": "2f3bbaa1",
   "metadata": {},
   "outputs": [],
   "source": [
    "# Extract part-of-speech tags from the 'comments' column\n",
    "subset.loc[:, 'pos_tags'] = subset['comments'].apply(lambda \n",
    "                x: TextBlob(x).pos_tags)\n",
    "\n",
    "# Define a function that returns the nouns in a list of tuples\n",
    "def get_nouns(tags):\n",
    "    nouns = [word for word, pos in tags if pos == \"NN\"]\n",
    "    return nouns\n",
    "\n",
    "# Apply the get_nouns function to the 'pos_tags' column\n",
    "subset.loc[:, 'nouns'] = subset['pos_tags'].apply(get_nouns)\n",
    "\n",
    "display(subset)"
   ]
  },
  {
   "cell_type": "code",
   "execution_count": null,
   "id": "4b874e36",
   "metadata": {},
   "outputs": [],
   "source": [
    "# Create a list of the nouns in the 'nouns' column\n",
    "noun = [word for tags in subset['nouns'] for word in tags]\n",
    "\n",
    "# Join the nouns into a single string\n",
    "text = \" \".join(noun)\n",
    "\n",
    "# Create a WordCloud object\n",
    "wordcloud = WordCloud(background_color='white', max_words=100).generate(text)\n",
    "plt.imshow(wordcloud, interpolation='bilinear')\n",
    "plt.axis(\"off\")\n",
    "plt.show()"
   ]
  },
  {
   "cell_type": "code",
   "execution_count": null,
   "id": "6a59d64b",
   "metadata": {},
   "outputs": [],
   "source": [
    "# Count the number of rows with a polarity value less than 0\n",
    "count = subset[subset['polarity'] < 0].shape[0]\n",
    "\n",
    "print(count)\n",
    "\n",
    "# Learn more about the reviews, maybe create pie chart of number of positive/neutral/negative\n",
    "\n",
    "print(subset['polarity'].describe())\n",
    "print(subset['subjectivity'].describe())"
   ]
  },
  {
   "cell_type": "code",
   "execution_count": null,
   "id": "8bfc67f1",
   "metadata": {},
   "outputs": [],
   "source": [
    "subset_negative = subset[subset['polarity'] < 0]\n",
    "\n",
    "subset_positive = subset[subset['polarity'] > 0]"
   ]
  },
  {
   "cell_type": "code",
   "execution_count": null,
   "id": "29f465aa",
   "metadata": {},
   "outputs": [],
   "source": [
    "def SentimentWordCloud(emotion):\n",
    "    noun = [word for tags in emotion['nouns'] for word in tags]\n",
    "    text = \" \".join(noun)\n",
    "\n",
    "\n",
    "    wordcloud = WordCloud(background_color='white', max_words=100).generate(text)\n",
    "    plt.imshow(wordcloud, interpolation='bilinear')\n",
    "    plt.axis(\"off\")\n",
    "    plt.show()\n",
    "    \n",
    "try:\n",
    "    SentimentWordCloud(subset_negative)\n",
    "\n",
    "except: \n",
    "    print(\"There are no negative reviews.\")"
   ]
  },
  {
   "cell_type": "code",
   "execution_count": null,
   "id": "7a02b94e",
   "metadata": {},
   "outputs": [],
   "source": [
    "try:\n",
    "    SentimentWordCloud(subset_positive)\n",
    "\n",
    "except: \n",
    "    print(\"There are no positive reviews.\")"
   ]
  },
  {
   "cell_type": "code",
   "execution_count": null,
   "id": "38a871b0",
   "metadata": {},
   "outputs": [],
   "source": [
    "# Count and order the frequency of the most popular words\n",
    "def returnWordCount(wordList) :\n",
    "    word_counts = Counter(wordList)\n",
    "    items = list(word_counts.items())\n",
    "    sorted_items = sorted(items, key=lambda x: x[1], reverse=True)\n",
    "    word_output = pd.DataFrame(sorted_items, columns=['Word', 'Frequency'])\n",
    "    return word_output\n",
    "\n",
    "print(returnWordCount(positive_noun))\n",
    "print(returnWordCount(negative_noun))"
   ]
  },
  {
   "cell_type": "code",
   "execution_count": null,
   "id": "5e690ad5",
   "metadata": {},
   "outputs": [],
   "source": [
    "# # List most popular keywords from positive reviews\n",
    "# positive_counts = Counter(positive_noun)\n",
    "# items = list(positive_counts.items())\n",
    "# sorted_items = sorted(items, key=lambda x: x[1], reverse=True)\n",
    "# positive_words = pd.DataFrame(sorted_items, columns=['Word', 'Frequency'])\n",
    "\n",
    "# # List most popular keywords from negative reviews\n",
    "# negative_counts = Counter(negative_noun)\n",
    "# items = list(negative_counts.items())\n",
    "# sorted_items = sorted(items, key=lambda x: x[1], reverse=True)\n",
    "# negative_words = pd.DataFrame(sorted_items, columns=['Word', 'Frequency'])\n",
    "\n",
    "# Create negative review WordCloud \n",
    "# try:\n",
    "#     negative_noun = [word for tags in subset_negative['nouns'] for word in tags]\n",
    "#     negative_text = \" \".join(negative_noun)\n",
    "\n",
    "\n",
    "#     negative_wordcloud = WordCloud(background_color='white', max_words=100).generate(negative_text)\n",
    "#     plt.imshow(negative_wordcloud, interpolation='bilinear')\n",
    "#     plt.axis(\"off\")\n",
    "#     plt.show()\n",
    "\n",
    "# except:\n",
    "#     print(\"There are no negative reviews\")\n",
    "# Create positive review WordCloud \n",
    "# try: \n",
    "#     positive_noun = [word for tags in subset_positive['nouns'] for word in tags]\n",
    "#     positive_text = \" \".join(positive_noun)\n",
    "\n",
    "\n",
    "#     positive_wordcloud = WordCloud(background_color='white', max_words=100).generate(positive_text)\n",
    "#     plt.imshow(positive_wordcloud, interpolation='bilinear')\n",
    "#     plt.axis(\"off\")\n",
    "#     plt.show()\n",
    "    \n",
    "# except: \n",
    "#     print(\"There are no positive reviews\")"
   ]
  },
  {
   "cell_type": "code",
   "execution_count": null,
   "id": "caccd727",
   "metadata": {},
   "outputs": [],
   "source": [
    "# Thinking of form:\n",
    "\n",
    "# May change method to vader\n",
    "\n",
    "# Streamlit pages: Location analysis, individual airbnb analysis, reviews analysis\n",
    "\n",
    "url = \"https://deepnote.com/@huily/NLP-Hotel-reviews-4bb77596-9385-4d7b-8829-84345f0ffda8\""
   ]
  }
 ],
 "metadata": {
  "kernelspec": {
   "display_name": "Python 3",
   "language": "python",
   "name": "python3"
  },
  "language_info": {
   "codemirror_mode": {
    "name": "ipython",
    "version": 3
   },
   "file_extension": ".py",
   "mimetype": "text/x-python",
   "name": "python",
   "nbconvert_exporter": "python",
   "pygments_lexer": "ipython3",
   "version": "3.8.8"
  }
 },
 "nbformat": 4,
 "nbformat_minor": 5
}
